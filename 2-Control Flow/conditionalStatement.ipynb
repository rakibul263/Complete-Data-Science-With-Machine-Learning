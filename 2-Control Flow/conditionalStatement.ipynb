{
 "cells": [
  {
   "cell_type": "markdown",
   "id": "5d73a7d3",
   "metadata": {},
   "source": [
    "### Conditional Statement (if, elif, else)"
   ]
  },
  {
   "cell_type": "code",
   "execution_count": 1,
   "id": "437660b2",
   "metadata": {},
   "outputs": [
    {
     "name": "stdout",
     "output_type": "stream",
     "text": [
      "Adult\n"
     ]
    }
   ],
   "source": [
    "## if statement\n",
    "age = 23\n",
    "if age>18:\n",
    "  print(\"Adult\");"
   ]
  },
  {
   "cell_type": "code",
   "execution_count": 3,
   "id": "1477b0cd",
   "metadata": {},
   "outputs": [
    {
     "name": "stdout",
     "output_type": "stream",
     "text": [
      "You are not eligible for voting\n"
     ]
    }
   ],
   "source": [
    "## else statement\n",
    "age = 14;\n",
    "if age>=18:\n",
    "  print(\"You are eligible for voting\");\n",
    "else :\n",
    "  print(\"You are not eligible for voting\");"
   ]
  },
  {
   "cell_type": "code",
   "execution_count": 4,
   "id": "271948ae",
   "metadata": {},
   "outputs": [
    {
     "name": "stdout",
     "output_type": "stream",
     "text": [
      "hay you are a child.\n"
     ]
    }
   ],
   "source": [
    "## elif statement\n",
    "age = 13\n",
    "if age<=13:\n",
    "  print(\"hay you are a child.\");\n",
    "elif age>=18:\n",
    "  print(\"You are a teenager.\");\n",
    "else :\n",
    "  print(\"Your are a adult\");"
   ]
  },
  {
   "cell_type": "code",
   "execution_count": 6,
   "id": "498e3ee5",
   "metadata": {},
   "outputs": [
    {
     "name": "stdout",
     "output_type": "stream",
     "text": [
      "The number is a positive number.\n",
      "The number is a even number.\n"
     ]
    }
   ],
   "source": [
    "## Nested conditional statement\n",
    "num = int(input(\"Enter the number : \"));\n",
    "if num>0:\n",
    "  print(\"The number is a positive number.\");\n",
    "  if num%2==0:\n",
    "    print(\"The number is a even number.\");\n",
    "  else:\n",
    "    print(\"The number is a odd number.\");\n",
    "elif num<0:\n",
    "  print(\"The number is a negative number.\");\n",
    "else:\n",
    "  print(\"The number is a zero.\");"
   ]
  },
  {
   "cell_type": "code",
   "execution_count": 7,
   "id": "afd0bb79",
   "metadata": {},
   "outputs": [
    {
     "name": "stdout",
     "output_type": "stream",
     "text": [
      "The year is not a leap year.\n"
     ]
    }
   ],
   "source": [
    "## determine a number is a leap year or not leap year\n",
    "year = int(input(\"Enter a year to check leap year or not : \"));\n",
    "if year%4 == 0:\n",
    "  if year%100 == 0:\n",
    "    if year%400 == 0:\n",
    "      print(\"The year is a leap year.\");\n",
    "    else:\n",
    "      print(\"The year is not a leap year.\");\n",
    "  else:\n",
    "    print(\"The year is not a leap year.\");\n",
    "else:\n",
    "  print(\"The year is not a leap year.\");"
   ]
  }
 ],
 "metadata": {
  "kernelspec": {
   "display_name": "Python 3",
   "language": "python",
   "name": "python3"
  },
  "language_info": {
   "codemirror_mode": {
    "name": "ipython",
    "version": 3
   },
   "file_extension": ".py",
   "mimetype": "text/x-python",
   "name": "python",
   "nbconvert_exporter": "python",
   "pygments_lexer": "ipython3",
   "version": "3.12.0"
  }
 },
 "nbformat": 4,
 "nbformat_minor": 5
}
