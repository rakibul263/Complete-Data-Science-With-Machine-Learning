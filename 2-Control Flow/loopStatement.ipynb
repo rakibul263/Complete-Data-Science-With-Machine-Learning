{
 "cells": [
  {
   "cell_type": "markdown",
   "id": "3aeae3d8",
   "metadata": {},
   "source": [
    "### Loop Statement"
   ]
  },
  {
   "cell_type": "code",
   "execution_count": 1,
   "id": "b0932a0a",
   "metadata": {},
   "outputs": [
    {
     "data": {
      "text/plain": [
       "range(0, 5)"
      ]
     },
     "execution_count": 1,
     "metadata": {},
     "output_type": "execute_result"
    }
   ],
   "source": [
    "range(5)"
   ]
  },
  {
   "cell_type": "markdown",
   "id": "c6187310",
   "metadata": {},
   "source": [
    "### For Loop"
   ]
  },
  {
   "cell_type": "code",
   "execution_count": 2,
   "id": "54f4cd1d",
   "metadata": {},
   "outputs": [
    {
     "name": "stdout",
     "output_type": "stream",
     "text": [
      "0\n",
      "1\n",
      "2\n",
      "3\n",
      "4\n"
     ]
    }
   ],
   "source": [
    "for i in range(5):\n",
    "  print(i);"
   ]
  },
  {
   "cell_type": "code",
   "execution_count": 1,
   "id": "cf3edea3",
   "metadata": {},
   "outputs": [
    {
     "name": "stdout",
     "output_type": "stream",
     "text": [
      "1\n",
      "2\n",
      "3\n",
      "4\n"
     ]
    }
   ],
   "source": [
    "for i in range(1, 5):\n",
    "  print(i);"
   ]
  },
  {
   "cell_type": "code",
   "execution_count": 2,
   "id": "158817aa",
   "metadata": {},
   "outputs": [
    {
     "data": {
      "text/plain": [
       "range(1, 10, 2)"
      ]
     },
     "execution_count": 2,
     "metadata": {},
     "output_type": "execute_result"
    }
   ],
   "source": [
    "range(1, 10, 2)"
   ]
  },
  {
   "cell_type": "code",
   "execution_count": 3,
   "id": "69b85956",
   "metadata": {},
   "outputs": [
    {
     "name": "stdout",
     "output_type": "stream",
     "text": [
      "1\n",
      "3\n",
      "5\n",
      "7\n",
      "9\n"
     ]
    }
   ],
   "source": [
    "for i in range(1, 10, 2):\n",
    "  print(i)"
   ]
  },
  {
   "cell_type": "code",
   "execution_count": 5,
   "id": "2bce853f",
   "metadata": {},
   "outputs": [
    {
     "name": "stdout",
     "output_type": "stream",
     "text": [
      "10\n",
      "9\n",
      "8\n",
      "7\n",
      "6\n",
      "5\n",
      "4\n",
      "3\n",
      "2\n",
      "1\n"
     ]
    }
   ],
   "source": [
    "for i in range(10, 0, -1):\n",
    "  print(i);"
   ]
  },
  {
   "cell_type": "code",
   "execution_count": 6,
   "id": "4c2adea1",
   "metadata": {},
   "outputs": [
    {
     "name": "stdout",
     "output_type": "stream",
     "text": [
      "R\n",
      "a\n",
      "k\n",
      "i\n",
      "b\n",
      "u\n",
      "l\n",
      " \n",
      "H\n",
      "a\n",
      "s\n",
      "a\n",
      "n\n"
     ]
    }
   ],
   "source": [
    "str = \"Rakibul Hasan\"\n",
    "for i in str:\n",
    "  print(i);"
   ]
  },
  {
   "cell_type": "markdown",
   "id": "ea640a93",
   "metadata": {},
   "source": [
    "## While Loop"
   ]
  },
  {
   "cell_type": "code",
   "execution_count": 7,
   "id": "0a3fab19",
   "metadata": {},
   "outputs": [
    {
     "name": "stdout",
     "output_type": "stream",
     "text": [
      "0\n",
      "1\n",
      "2\n",
      "3\n",
      "4\n"
     ]
    }
   ],
   "source": [
    "count = 0;\n",
    "while count < 5:\n",
    "  print(count);\n",
    "  count = count + 1;"
   ]
  },
  {
   "cell_type": "markdown",
   "id": "a0451564",
   "metadata": {},
   "source": [
    "### Loop Control Statement"
   ]
  },
  {
   "cell_type": "code",
   "execution_count": null,
   "id": "0f2a18fd",
   "metadata": {},
   "outputs": [
    {
     "name": "stdout",
     "output_type": "stream",
     "text": [
      "1\n",
      "2\n",
      "3\n",
      "4\n"
     ]
    }
   ],
   "source": [
    "## Break\n",
    "for i in range(1, 10):\n",
    "  if i == 5:\n",
    "    break\n",
    "  print(i)"
   ]
  },
  {
   "cell_type": "code",
   "execution_count": 9,
   "id": "01bf66e0",
   "metadata": {},
   "outputs": [
    {
     "name": "stdout",
     "output_type": "stream",
     "text": [
      "1\n",
      "3\n",
      "5\n",
      "7\n",
      "9\n"
     ]
    }
   ],
   "source": [
    "## Continue\n",
    "for i in range(1, 10):\n",
    "  if i%2==0:\n",
    "    continue\n",
    "  print(i)"
   ]
  },
  {
   "cell_type": "code",
   "execution_count": 10,
   "id": "f4dbb259",
   "metadata": {},
   "outputs": [
    {
     "name": "stdout",
     "output_type": "stream",
     "text": [
      "1\n",
      "2\n",
      "3\n",
      "4\n",
      "This is 5\n",
      "5\n",
      "6\n",
      "7\n",
      "8\n",
      "9\n"
     ]
    }
   ],
   "source": [
    "## pass\n",
    "for i in range(1, 10):\n",
    "  if i == 5:\n",
    "    print(\"This is 5\");\n",
    "    pass;\n",
    "  print(i);"
   ]
  },
  {
   "cell_type": "code",
   "execution_count": null,
   "id": "f1a971ab",
   "metadata": {},
   "outputs": [],
   "source": []
  }
 ],
 "metadata": {
  "kernelspec": {
   "display_name": "Python 3",
   "language": "python",
   "name": "python3"
  },
  "language_info": {
   "codemirror_mode": {
    "name": "ipython",
    "version": 3
   },
   "file_extension": ".py",
   "mimetype": "text/x-python",
   "name": "python",
   "nbconvert_exporter": "python",
   "pygments_lexer": "ipython3",
   "version": "3.12.0"
  }
 },
 "nbformat": 4,
 "nbformat_minor": 5
}
