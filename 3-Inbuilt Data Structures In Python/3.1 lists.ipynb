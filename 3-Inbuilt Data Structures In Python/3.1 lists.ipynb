{
 "cells": [
  {
   "cell_type": "markdown",
   "id": "80272d31",
   "metadata": {},
   "source": [
    "### Introduction to Lists"
   ]
  },
  {
   "cell_type": "markdown",
   "id": "0aba338e",
   "metadata": {},
   "source": [
    "-lists are ordered, mutable collection of items"
   ]
  },
  {
   "cell_type": "markdown",
   "id": "fc7e99ef",
   "metadata": {},
   "source": [
    "-They can contain items of different data types"
   ]
  },
  {
   "cell_type": "code",
   "execution_count": 1,
   "id": "c93eb883",
   "metadata": {},
   "outputs": [
    {
     "name": "stdout",
     "output_type": "stream",
     "text": [
      "<class 'list'>\n"
     ]
    }
   ],
   "source": [
    "lst = []\n",
    "print(type(lst))"
   ]
  },
  {
   "cell_type": "code",
   "execution_count": 2,
   "id": "572b4958",
   "metadata": {},
   "outputs": [
    {
     "name": "stdout",
     "output_type": "stream",
     "text": [
      "['Rakibul', 'Jahid', 'Samium']\n"
     ]
    }
   ],
   "source": [
    "names = [\"Rakibul\", \"Jahid\", \"Samium\"]\n",
    "print(names)"
   ]
  },
  {
   "cell_type": "code",
   "execution_count": 3,
   "id": "2792d273",
   "metadata": {},
   "outputs": [
    {
     "name": "stdout",
     "output_type": "stream",
     "text": [
      "[1, 'Shuvo', 3.23]\n"
     ]
    }
   ],
   "source": [
    "mixed_list = [1, \"Shuvo\", 3.23]\n",
    "print(mixed_list);"
   ]
  },
  {
   "cell_type": "code",
   "execution_count": null,
   "id": "7d5f41a7",
   "metadata": {},
   "outputs": [
    {
     "name": "stdout",
     "output_type": "stream",
     "text": [
      "Rakibul\n",
      "['Aysha', 'Asha', 'Shuvo']\n"
     ]
    }
   ],
   "source": [
    "## Accessing list element\n",
    "names_list = [\"Rakibul\", \"Aysha\", \"Asha\", \"Shuvo\"]\n",
    "print(names_list[0])\n",
    "print(names_list[1:4])"
   ]
  },
  {
   "cell_type": "code",
   "execution_count": 7,
   "id": "92c7dcd8",
   "metadata": {},
   "outputs": [
    {
     "name": "stdout",
     "output_type": "stream",
     "text": [
      "['Rakibul', 'Aysha', 'Asha', 'Shuvo', 'Anha']\n"
     ]
    }
   ],
   "source": [
    "## lists method\n",
    "names_list.append(\"Anha\");\n",
    "print(names_list)"
   ]
  },
  {
   "cell_type": "code",
   "execution_count": 8,
   "id": "2fea726d",
   "metadata": {},
   "outputs": [
    {
     "name": "stdout",
     "output_type": "stream",
     "text": [
      "['Rakibul', 'Shopna', 'Aysha', 'Asha', 'Shuvo', 'Anha']\n"
     ]
    }
   ],
   "source": [
    "names_list.insert(1, \"Shopna\")\n",
    "print(names_list)"
   ]
  },
  {
   "cell_type": "code",
   "execution_count": 9,
   "id": "32acdee3",
   "metadata": {},
   "outputs": [
    {
     "name": "stdout",
     "output_type": "stream",
     "text": [
      "['Rakibul', 'Rakibul', 'Shopna', 'Aysha', 'Asha', 'Shuvo', 'Anha']\n"
     ]
    }
   ],
   "source": [
    "names_list.insert(0, \"Rakibul\")\n",
    "print(names_list)"
   ]
  },
  {
   "cell_type": "code",
   "execution_count": 11,
   "id": "0c2c679d",
   "metadata": {},
   "outputs": [
    {
     "name": "stdout",
     "output_type": "stream",
     "text": [
      "['Shopna', 'Aysha', 'Asha', 'Shuvo', 'Anha']\n"
     ]
    }
   ],
   "source": [
    "names_list.remove(\"Rakibul\")\n",
    "print(names_list)"
   ]
  },
  {
   "cell_type": "code",
   "execution_count": 12,
   "id": "78e9470d",
   "metadata": {},
   "outputs": [
    {
     "name": "stdout",
     "output_type": "stream",
     "text": [
      "2\n"
     ]
    }
   ],
   "source": [
    "index = names_list.index(\"Asha\")\n",
    "print(index)"
   ]
  },
  {
   "cell_type": "code",
   "execution_count": 17,
   "id": "4914258b",
   "metadata": {},
   "outputs": [
    {
     "name": "stdout",
     "output_type": "stream",
     "text": [
      "['Shopna', 'Aysha', 'Asha', 'Shuvo', 'Anha', 'Rakibul', 'Rakibul', 'Rakibul', 'Asha']\n",
      "3\n"
     ]
    }
   ],
   "source": [
    "print(names_list);\n",
    "names_list.append(\"Asha\")\n",
    "print(names_list.count(\"Asha\"))"
   ]
  },
  {
   "cell_type": "code",
   "execution_count": 18,
   "id": "615938de",
   "metadata": {},
   "outputs": [
    {
     "name": "stdout",
     "output_type": "stream",
     "text": [
      "['Anha', 'Asha', 'Asha', 'Asha', 'Aysha', 'Rakibul', 'Rakibul', 'Rakibul', 'Shopna', 'Shuvo']\n"
     ]
    }
   ],
   "source": [
    "names_list.sort();\n",
    "print(names_list)"
   ]
  },
  {
   "cell_type": "code",
   "execution_count": 20,
   "id": "7d8db76d",
   "metadata": {},
   "outputs": [
    {
     "name": "stdout",
     "output_type": "stream",
     "text": [
      "['Anha', 'Asha', 'Asha', 'Asha', 'Aysha', 'Rakibul', 'Rakibul', 'Rakibul', 'Shopna', 'Shuvo']\n"
     ]
    }
   ],
   "source": [
    "names_list.reverse();\n",
    "print(names_list)"
   ]
  },
  {
   "cell_type": "code",
   "execution_count": 21,
   "id": "aeab4ecd",
   "metadata": {},
   "outputs": [
    {
     "name": "stdout",
     "output_type": "stream",
     "text": [
      "[]\n"
     ]
    }
   ],
   "source": [
    "names_list.clear();\n",
    "print(names_list)"
   ]
  },
  {
   "cell_type": "code",
   "execution_count": null,
   "id": "5c8de0a4",
   "metadata": {},
   "outputs": [],
   "source": []
  }
 ],
 "metadata": {
  "kernelspec": {
   "display_name": "Python 3",
   "language": "python",
   "name": "python3"
  },
  "language_info": {
   "codemirror_mode": {
    "name": "ipython",
    "version": 3
   },
   "file_extension": ".py",
   "mimetype": "text/x-python",
   "name": "python",
   "nbconvert_exporter": "python",
   "pygments_lexer": "ipython3",
   "version": "3.12.0"
  }
 },
 "nbformat": 4,
 "nbformat_minor": 5
}
