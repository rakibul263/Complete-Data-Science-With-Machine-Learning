{
 "cells": [
  {
   "cell_type": "code",
   "execution_count": 1,
   "id": "72341387",
   "metadata": {},
   "outputs": [
    {
     "name": "stdout",
     "output_type": "stream",
     "text": [
      "Shuvo\n",
      "Hasan\n"
     ]
    }
   ],
   "source": [
    "## Basic syntax rule in python\n",
    "## Case Sensitive : python is case sensitive language\n",
    "name = \"Shuvo\"\n",
    "Name = \"Hasan\"\n",
    "print(name)\n",
    "print(Name)"
   ]
  },
  {
   "cell_type": "code",
   "execution_count": 1,
   "id": "dc7ddb60",
   "metadata": {},
   "outputs": [
    {
     "name": "stdout",
     "output_type": "stream",
     "text": [
      "32\n"
     ]
    }
   ],
   "source": [
    "## Indentation :\n",
    "## Python uses indentation to define a block of code. Consistent use of space or tab is important.\n",
    "age=32;\n",
    "if age>30:\n",
    "   print(age)"
   ]
  },
  {
   "cell_type": "code",
   "execution_count": 2,
   "id": "c04cd9b8",
   "metadata": {},
   "outputs": [
    {
     "name": "stdout",
     "output_type": "stream",
     "text": [
      "Hello Shuvo!\n"
     ]
    }
   ],
   "source": [
    "## This is a single line comment\n",
    "print(\"Hello Shuvo!\");"
   ]
  },
  {
   "cell_type": "code",
   "execution_count": null,
   "id": "7b48e170",
   "metadata": {},
   "outputs": [
    {
     "name": "stdout",
     "output_type": "stream",
     "text": [
      "15\n"
     ]
    }
   ],
   "source": [
    "## Line continuation\n",
    "## use a backslash to continue a statement to the next line.\n",
    "total = 1 + 2 + 3 + \\\n",
    "  4 + 5;\n",
    "print(total);"
   ]
  },
  {
   "cell_type": "code",
   "execution_count": 4,
   "id": "057ca62a",
   "metadata": {},
   "outputs": [
    {
     "name": "stdout",
     "output_type": "stream",
     "text": [
      "15\n"
     ]
    }
   ],
   "source": [
    "## Multiple statement on a single line\n",
    "x = 5;\n",
    "y = 10;\n",
    "z = x + y;\n",
    "print(z);"
   ]
  },
  {
   "cell_type": "code",
   "execution_count": 6,
   "id": "7492cacd",
   "metadata": {},
   "outputs": [],
   "source": [
    "## Samnatics In Python\n",
    "## variable assignment\n",
    "age = 32 ## karnel run time e auto detected kore, age is a integer value;\n",
    "type(age);"
   ]
  },
  {
   "cell_type": "code",
   "execution_count": 7,
   "id": "0522116a",
   "metadata": {},
   "outputs": [
    {
     "name": "stdout",
     "output_type": "stream",
     "text": [
      "<class 'int'>\n"
     ]
    }
   ],
   "source": [
    "## Type inference\n",
    "variable = 10;\n",
    "print(type(variable))"
   ]
  },
  {
   "cell_type": "code",
   "execution_count": null,
   "id": "7846c6db",
   "metadata": {},
   "outputs": [],
   "source": []
  }
 ],
 "metadata": {
  "kernelspec": {
   "display_name": "Python 3",
   "language": "python",
   "name": "python3"
  },
  "language_info": {
   "codemirror_mode": {
    "name": "ipython",
    "version": 3
   },
   "file_extension": ".py",
   "mimetype": "text/x-python",
   "name": "python",
   "nbconvert_exporter": "python",
   "pygments_lexer": "ipython3",
   "version": "3.12.0"
  }
 },
 "nbformat": 4,
 "nbformat_minor": 5
}
