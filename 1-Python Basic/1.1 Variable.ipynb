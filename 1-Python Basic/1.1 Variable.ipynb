{
 "cells": [
  {
   "cell_type": "code",
   "execution_count": 4,
   "id": "1c9f1b7b",
   "metadata": {},
   "outputs": [
    {
     "name": "stdout",
     "output_type": "stream",
     "text": [
      "Age :  23\n",
      "height :  6.1\n",
      "My Name :  Shuvo\n",
      "Is i am a student : True\n"
     ]
    }
   ],
   "source": [
    "## Declaring and assigning variable\n",
    "age = 23\n",
    "height = 6.1\n",
    "name = \"Shuvo\"\n",
    "is_student = True\n",
    "\n",
    "## Printing the variable\n",
    "print(\"Age : \", age);\n",
    "print(\"height : \", height);\n",
    "print(\"My Name : \", name);\n",
    "print(f\"Is i am a student : {is_student}\");"
   ]
  },
  {
   "cell_type": "code",
   "execution_count": 3,
   "id": "edf7580e",
   "metadata": {},
   "outputs": [],
   "source": [
    "## Naming convention\n",
    "## variable name should be descriptive\n",
    "## They must always start with a letter or an '_' contain letters numbers and underscore.\n",
    "## variables name are case sensitive\n",
    "first_name = \"Rakibul\"\n",
    "last_name = \"Hasan\""
   ]
  },
  {
   "cell_type": "code",
   "execution_count": null,
   "id": "81565bca",
   "metadata": {},
   "outputs": [],
   "source": [
    "## Understanding variables types\n",
    "## Python is dynamically typed, type of a variable is determined at runtime\n",
    "age = 25 ## integer\n",
    "height = 6.5 ## float\n",
    "name = \"Shuvo\" ##  string\n",
    "is_student = True ## bool"
   ]
  },
  {
   "cell_type": "code",
   "execution_count": null,
   "id": "6b5b625c",
   "metadata": {},
   "outputs": [],
   "source": [
    "## input\n",
    "age = input(\"What is the age : \");"
   ]
  },
  {
   "cell_type": "code",
   "execution_count": 2,
   "id": "e309c52c",
   "metadata": {},
   "outputs": [
    {
     "name": "stdout",
     "output_type": "stream",
     "text": [
      "Sum :  7.0\n",
      "Difference :  -1.0\n",
      "Product :  12.0\n",
      "Quotient :  0.75\n"
     ]
    }
   ],
   "source": [
    "### simple calculator\n",
    "num1 = float(input(\"Enter first number : \"))\n",
    "num2 = float(input(\"Enter Second number : \"))\n",
    "\n",
    "sum = num1 + num2\n",
    "difference = num1 - num2\n",
    "product = num1 * num2\n",
    "quotient = num1 / num2\n",
    "\n",
    "print(\"Sum : \", sum)\n",
    "print(\"Difference : \", difference)\n",
    "print(\"Product : \", product)\n",
    "print(\"Quotient : \", quotient)"
   ]
  }
 ],
 "metadata": {
  "kernelspec": {
   "display_name": "Python 3",
   "language": "python",
   "name": "python3"
  },
  "language_info": {
   "codemirror_mode": {
    "name": "ipython",
    "version": 3
   },
   "file_extension": ".py",
   "mimetype": "text/x-python",
   "name": "python",
   "nbconvert_exporter": "python",
   "pygments_lexer": "ipython3",
   "version": "3.12.0"
  }
 },
 "nbformat": 4,
 "nbformat_minor": 5
}
